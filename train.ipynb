{
 "cells": [
  {
   "cell_type": "markdown",
   "source": [
    "Import libraries"
   ],
   "metadata": {
    "collapsed": false
   }
  },
  {
   "cell_type": "code",
   "execution_count": 1,
   "metadata": {
    "collapsed": true
   },
   "outputs": [],
   "source": [
    "import numpy as np\n",
    "from tensorflow import keras\n",
    "from tensorflow.keras import layers\n",
    "from sklearn.model_selection import train_test_split\n",
    "import pandas as pd"
   ]
  },
  {
   "cell_type": "markdown",
   "source": [
    "Constants"
   ],
   "metadata": {
    "collapsed": false
   }
  },
  {
   "cell_type": "code",
   "execution_count": 2,
   "outputs": [],
   "source": [
    "DATASET = 'data.csv'\n",
    "SAVE_MODEL = ''\n",
    "RANDOM_SEED = 42\n",
    "NUM_LETTERS = 4"
   ],
   "metadata": {
    "collapsed": false
   }
  },
  {
   "cell_type": "markdown",
   "source": [
    "Import data"
   ],
   "metadata": {
    "collapsed": false
   }
  },
  {
   "cell_type": "code",
   "execution_count": 3,
   "outputs": [
    {
     "name": "stdout",
     "output_type": "stream",
     "text": [
      "X: 260 Rows\t168 Columns\n",
      "Y: 260 Rows\n"
     ]
    }
   ],
   "source": [
    "X_data = np.loadtxt(DATASET, delimiter=',', usecols=range(1, 168+1))\n",
    "x_rows = X_data.shape[0]\n",
    "x_cols = X_data.shape[1]\n",
    "\n",
    "y_data = np.loadtxt(DATASET, delimiter=',', usecols=0).astype(np.int32)\n",
    "y_shape = y_data.shape\n",
    "\n",
    "print('X: {} Rows\\t{} Columns'.format(x_rows, x_cols))\n",
    "print('Y: {} Rows'.format(y_shape[0]))"
   ],
   "metadata": {
    "collapsed": false
   }
  },
  {
   "cell_type": "markdown",
   "source": [
    "Train Test Split"
   ],
   "metadata": {
    "collapsed": false
   }
  },
  {
   "cell_type": "code",
   "execution_count": 4,
   "outputs": [],
   "source": [
    "X_train, X_test, y_train, y_test = train_test_split(X_data, y_data, train_size=0.75, random_state=RANDOM_SEED)"
   ],
   "metadata": {
    "collapsed": false
   }
  },
  {
   "cell_type": "markdown",
   "source": [
    "Define model architecture"
   ],
   "metadata": {
    "collapsed": false
   }
  },
  {
   "cell_type": "code",
   "execution_count": 5,
   "outputs": [],
   "source": [
    "model = keras.Sequential([\n",
    "    layers.Dense(256, activation='relu', input_shape=(x_cols,)),\n",
    "    layers.Dropout(0.2),\n",
    "    layers.Dense(256, activation='relu'),\n",
    "    layers.Dropout(0.2),\n",
    "    layers.Dense(50, activation='relu'),\n",
    "    layers.Dense(NUM_LETTERS, activation='softmax')\n",
    "])"
   ],
   "metadata": {
    "collapsed": false
   }
  },
  {
   "cell_type": "code",
   "execution_count": 6,
   "outputs": [
    {
     "name": "stdout",
     "output_type": "stream",
     "text": [
      "Model: \"sequential\"\n",
      "_________________________________________________________________\n",
      " Layer (type)                Output Shape              Param #   \n",
      "=================================================================\n",
      " dense (Dense)               (None, 256)               43264     \n",
      "                                                                 \n",
      " dropout (Dropout)           (None, 256)               0         \n",
      "                                                                 \n",
      " dense_1 (Dense)             (None, 256)               65792     \n",
      "                                                                 \n",
      " dropout_1 (Dropout)         (None, 256)               0         \n",
      "                                                                 \n",
      " dense_2 (Dense)             (None, 50)                12850     \n",
      "                                                                 \n",
      " dense_3 (Dense)             (None, 4)                 204       \n",
      "                                                                 \n",
      "=================================================================\n",
      "Total params: 122,110\n",
      "Trainable params: 122,110\n",
      "Non-trainable params: 0\n",
      "_________________________________________________________________\n"
     ]
    }
   ],
   "source": [
    "model.summary()"
   ],
   "metadata": {
    "collapsed": false
   }
  },
  {
   "cell_type": "code",
   "execution_count": 7,
   "outputs": [],
   "source": [
    "early_stopping = keras.callbacks.EarlyStopping(patience=5, min_delta=0.00001, restore_best_weights=True)"
   ],
   "metadata": {
    "collapsed": false
   }
  },
  {
   "cell_type": "code",
   "execution_count": 8,
   "outputs": [],
   "source": [
    "model.compile(optimizer='adam',\n",
    "              loss='sparse_categorical_crossentropy',\n",
    "              metrics=['accuracy'])"
   ],
   "metadata": {
    "collapsed": false
   }
  },
  {
   "cell_type": "code",
   "execution_count": 9,
   "outputs": [
    {
     "name": "stdout",
     "output_type": "stream",
     "text": [
      "Epoch 1/300\n",
      "7/7 [==============================] - 1s 34ms/step - loss: 1.2902 - accuracy: 0.6051 - val_loss: 1.1277 - val_accuracy: 0.7385\n",
      "Epoch 2/300\n",
      "7/7 [==============================] - 0s 8ms/step - loss: 0.9971 - accuracy: 0.8718 - val_loss: 0.7701 - val_accuracy: 1.0000\n",
      "Epoch 3/300\n",
      "7/7 [==============================] - 0s 9ms/step - loss: 0.6133 - accuracy: 0.9641 - val_loss: 0.3777 - val_accuracy: 1.0000\n",
      "Epoch 4/300\n",
      "7/7 [==============================] - 0s 8ms/step - loss: 0.2800 - accuracy: 0.9744 - val_loss: 0.1421 - val_accuracy: 1.0000\n",
      "Epoch 5/300\n",
      "7/7 [==============================] - 0s 9ms/step - loss: 0.1055 - accuracy: 1.0000 - val_loss: 0.0495 - val_accuracy: 1.0000\n",
      "Epoch 6/300\n",
      "7/7 [==============================] - 0s 9ms/step - loss: 0.0342 - accuracy: 1.0000 - val_loss: 0.0149 - val_accuracy: 1.0000\n",
      "Epoch 7/300\n",
      "7/7 [==============================] - 0s 9ms/step - loss: 0.0133 - accuracy: 1.0000 - val_loss: 0.0044 - val_accuracy: 1.0000\n",
      "Epoch 8/300\n",
      "7/7 [==============================] - 0s 9ms/step - loss: 0.0055 - accuracy: 1.0000 - val_loss: 0.0018 - val_accuracy: 1.0000\n",
      "Epoch 9/300\n",
      "7/7 [==============================] - 0s 8ms/step - loss: 0.0022 - accuracy: 1.0000 - val_loss: 0.0010 - val_accuracy: 1.0000\n",
      "Epoch 10/300\n",
      "7/7 [==============================] - 0s 8ms/step - loss: 0.0017 - accuracy: 1.0000 - val_loss: 6.8814e-04 - val_accuracy: 1.0000\n",
      "Epoch 11/300\n",
      "7/7 [==============================] - 0s 12ms/step - loss: 0.0011 - accuracy: 1.0000 - val_loss: 5.2424e-04 - val_accuracy: 1.0000\n",
      "Epoch 12/300\n",
      "7/7 [==============================] - 0s 8ms/step - loss: 0.0010 - accuracy: 1.0000 - val_loss: 4.3358e-04 - val_accuracy: 1.0000\n",
      "Epoch 13/300\n",
      "7/7 [==============================] - 0s 8ms/step - loss: 7.2541e-04 - accuracy: 1.0000 - val_loss: 3.7684e-04 - val_accuracy: 1.0000\n",
      "Epoch 14/300\n",
      "7/7 [==============================] - 0s 9ms/step - loss: 6.4912e-04 - accuracy: 1.0000 - val_loss: 3.3655e-04 - val_accuracy: 1.0000\n",
      "Epoch 15/300\n",
      "7/7 [==============================] - 0s 9ms/step - loss: 7.0579e-04 - accuracy: 1.0000 - val_loss: 3.0262e-04 - val_accuracy: 1.0000\n",
      "Epoch 16/300\n",
      "7/7 [==============================] - 0s 8ms/step - loss: 8.4955e-04 - accuracy: 1.0000 - val_loss: 2.7548e-04 - val_accuracy: 1.0000\n",
      "Epoch 17/300\n",
      "7/7 [==============================] - 0s 8ms/step - loss: 5.4863e-04 - accuracy: 1.0000 - val_loss: 2.5207e-04 - val_accuracy: 1.0000\n",
      "Epoch 18/300\n",
      "7/7 [==============================] - 0s 12ms/step - loss: 5.1964e-04 - accuracy: 1.0000 - val_loss: 2.3167e-04 - val_accuracy: 1.0000\n",
      "Epoch 19/300\n",
      "7/7 [==============================] - 0s 9ms/step - loss: 4.8968e-04 - accuracy: 1.0000 - val_loss: 2.1296e-04 - val_accuracy: 1.0000\n",
      "Epoch 20/300\n",
      "7/7 [==============================] - 0s 8ms/step - loss: 6.0490e-04 - accuracy: 1.0000 - val_loss: 1.9559e-04 - val_accuracy: 1.0000\n",
      "Epoch 21/300\n",
      "7/7 [==============================] - 0s 8ms/step - loss: 4.2804e-04 - accuracy: 1.0000 - val_loss: 1.8194e-04 - val_accuracy: 1.0000\n",
      "Epoch 22/300\n",
      "7/7 [==============================] - 0s 9ms/step - loss: 4.0565e-04 - accuracy: 1.0000 - val_loss: 1.6992e-04 - val_accuracy: 1.0000\n",
      "Epoch 23/300\n",
      "7/7 [==============================] - 0s 9ms/step - loss: 3.5521e-04 - accuracy: 1.0000 - val_loss: 1.5792e-04 - val_accuracy: 1.0000\n",
      "Epoch 24/300\n",
      "7/7 [==============================] - 0s 10ms/step - loss: 3.3591e-04 - accuracy: 1.0000 - val_loss: 1.4665e-04 - val_accuracy: 1.0000\n",
      "Epoch 25/300\n",
      "7/7 [==============================] - 0s 10ms/step - loss: 3.5992e-04 - accuracy: 1.0000 - val_loss: 1.3604e-04 - val_accuracy: 1.0000\n",
      "Epoch 26/300\n",
      "7/7 [==============================] - 0s 10ms/step - loss: 3.5502e-04 - accuracy: 1.0000 - val_loss: 1.2579e-04 - val_accuracy: 1.0000\n",
      "Epoch 27/300\n",
      "7/7 [==============================] - 0s 10ms/step - loss: 6.6148e-04 - accuracy: 1.0000 - val_loss: 1.2388e-04 - val_accuracy: 1.0000\n",
      "Epoch 28/300\n",
      "7/7 [==============================] - 0s 10ms/step - loss: 4.2359e-04 - accuracy: 1.0000 - val_loss: 1.3770e-04 - val_accuracy: 1.0000\n",
      "Epoch 29/300\n",
      "7/7 [==============================] - 0s 9ms/step - loss: 4.0993e-04 - accuracy: 1.0000 - val_loss: 1.3515e-04 - val_accuracy: 1.0000\n",
      "Epoch 30/300\n",
      "7/7 [==============================] - 0s 8ms/step - loss: 3.4181e-04 - accuracy: 1.0000 - val_loss: 1.1723e-04 - val_accuracy: 1.0000\n",
      "Epoch 31/300\n",
      "7/7 [==============================] - 0s 10ms/step - loss: 4.3955e-04 - accuracy: 1.0000 - val_loss: 1.0734e-04 - val_accuracy: 1.0000\n",
      "Epoch 32/300\n",
      "7/7 [==============================] - 0s 10ms/step - loss: 3.6377e-04 - accuracy: 1.0000 - val_loss: 9.7846e-05 - val_accuracy: 1.0000\n",
      "Epoch 33/300\n",
      "7/7 [==============================] - 0s 10ms/step - loss: 2.1454e-04 - accuracy: 1.0000 - val_loss: 8.9213e-05 - val_accuracy: 1.0000\n",
      "Epoch 34/300\n",
      "7/7 [==============================] - 0s 9ms/step - loss: 2.1560e-04 - accuracy: 1.0000 - val_loss: 8.3275e-05 - val_accuracy: 1.0000\n",
      "Epoch 35/300\n",
      "7/7 [==============================] - 0s 10ms/step - loss: 1.6636e-04 - accuracy: 1.0000 - val_loss: 7.8370e-05 - val_accuracy: 1.0000\n",
      "Epoch 36/300\n",
      "7/7 [==============================] - 0s 9ms/step - loss: 1.4116e-04 - accuracy: 1.0000 - val_loss: 7.4107e-05 - val_accuracy: 1.0000\n",
      "Epoch 37/300\n",
      "7/7 [==============================] - 0s 8ms/step - loss: 1.8412e-04 - accuracy: 1.0000 - val_loss: 6.9752e-05 - val_accuracy: 1.0000\n",
      "Epoch 38/300\n",
      "7/7 [==============================] - 0s 10ms/step - loss: 4.5690e-04 - accuracy: 1.0000 - val_loss: 6.2717e-05 - val_accuracy: 1.0000\n",
      "Epoch 39/300\n",
      "7/7 [==============================] - 0s 9ms/step - loss: 1.2565e-04 - accuracy: 1.0000 - val_loss: 5.8491e-05 - val_accuracy: 1.0000\n",
      "Epoch 40/300\n",
      "7/7 [==============================] - 0s 8ms/step - loss: 1.3595e-04 - accuracy: 1.0000 - val_loss: 5.5096e-05 - val_accuracy: 1.0000\n",
      "Epoch 41/300\n",
      "7/7 [==============================] - 0s 9ms/step - loss: 1.2760e-04 - accuracy: 1.0000 - val_loss: 5.2310e-05 - val_accuracy: 1.0000\n",
      "Epoch 42/300\n",
      "7/7 [==============================] - 0s 10ms/step - loss: 1.6174e-04 - accuracy: 1.0000 - val_loss: 4.9426e-05 - val_accuracy: 1.0000\n",
      "Epoch 43/300\n",
      "7/7 [==============================] - 0s 11ms/step - loss: 1.5346e-04 - accuracy: 1.0000 - val_loss: 4.6895e-05 - val_accuracy: 1.0000\n",
      "Epoch 44/300\n",
      "7/7 [==============================] - 0s 13ms/step - loss: 9.7895e-05 - accuracy: 1.0000 - val_loss: 4.4830e-05 - val_accuracy: 1.0000\n",
      "Epoch 45/300\n",
      "7/7 [==============================] - 0s 8ms/step - loss: 1.0035e-04 - accuracy: 1.0000 - val_loss: 4.3028e-05 - val_accuracy: 1.0000\n",
      "Epoch 46/300\n",
      "7/7 [==============================] - 0s 8ms/step - loss: 8.7616e-05 - accuracy: 1.0000 - val_loss: 4.1280e-05 - val_accuracy: 1.0000\n",
      "Epoch 47/300\n",
      "7/7 [==============================] - 0s 8ms/step - loss: 1.3868e-04 - accuracy: 1.0000 - val_loss: 3.9545e-05 - val_accuracy: 1.0000\n",
      "Epoch 48/300\n",
      "7/7 [==============================] - 0s 9ms/step - loss: 1.3239e-04 - accuracy: 1.0000 - val_loss: 3.7763e-05 - val_accuracy: 1.0000\n",
      "Epoch 49/300\n",
      "7/7 [==============================] - 0s 9ms/step - loss: 1.5222e-04 - accuracy: 1.0000 - val_loss: 3.5672e-05 - val_accuracy: 1.0000\n",
      "Epoch 50/300\n",
      "7/7 [==============================] - 0s 9ms/step - loss: 1.2797e-04 - accuracy: 1.0000 - val_loss: 3.3952e-05 - val_accuracy: 1.0000\n",
      "Epoch 51/300\n",
      "7/7 [==============================] - 0s 9ms/step - loss: 1.2609e-04 - accuracy: 1.0000 - val_loss: 3.2412e-05 - val_accuracy: 1.0000\n"
     ]
    }
   ],
   "source": [
    "history = model.fit(\n",
    "    X_train, y_train,\n",
    "    batch_size=30,\n",
    "    epochs=300,\n",
    "    validation_data=(X_test, y_test),\n",
    "    callbacks=[early_stopping]\n",
    ")"
   ],
   "metadata": {
    "collapsed": false
   }
  },
  {
   "cell_type": "code",
   "execution_count": 13,
   "outputs": [
    {
     "name": "stdout",
     "output_type": "stream",
     "text": [
      "Minimum Validation Loss: 3.2412084692623466e-05\n"
     ]
    },
    {
     "data": {
      "text/plain": "<Figure size 640x480 with 1 Axes>",
      "image/png": "[encoded data removed]"
     },
     "metadata": {},
     "output_type": "display_data"
    }
   ],
   "source": [
    "history_df = pd.DataFrame(history.history)\n",
    "history_df.loc[20:, ['loss', 'val_loss']].plot();\n",
    "print('Minimum Validation Loss: {}'.format(history_df['val_loss'].min()))"
   ],
   "metadata": {
    "collapsed": false
   }
  },
  {
   "cell_type": "code",
   "execution_count": 11,
   "outputs": [],
   "source": [
    "# keras.backend.clear_session()"
   ],
   "metadata": {
    "collapsed": false
   }
  },
  {
   "cell_type": "code",
   "execution_count": 14,
   "outputs": [],
   "source": [
    "model.save('alphabet_model.h5')"
   ],
   "metadata": {
    "collapsed": false
   }
  },
  {
   "cell_type": "code",
   "execution_count": null,
   "outputs": [],
   "source": [],
   "metadata": {
    "collapsed": false
   }
  }
 ],
 "metadata": {
  "kernelspec": {
   "display_name": "Python 3",
   "language": "python",
   "name": "python3"
  },
  "language_info": {
   "codemirror_mode": {
    "name": "ipython",
    "version": 2
   },
   "file_extension": ".py",
   "mimetype": "text/x-python",
   "name": "python",
   "nbconvert_exporter": "python",
   "pygments_lexer": "ipython2",
   "version": "2.7.6"
  }
 },
 "nbformat": 4,
 "nbformat_minor": 0
}
