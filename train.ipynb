{
 "cells": [
  {
   "cell_type": "markdown",
   "source": [
    "Import libraries"
   ],
   "metadata": {
    "collapsed": false
   }
  },
  {
   "cell_type": "code",
   "execution_count": 1,
   "metadata": {
    "collapsed": true
   },
   "outputs": [],
   "source": [
    "import numpy as np\n",
    "from tensorflow import keras\n",
    "from tensorflow.keras import layers\n",
    "from sklearn.model_selection import train_test_split\n",
    "import pandas as pd"
   ]
  },
  {
   "cell_type": "markdown",
   "source": [
    "Constants"
   ],
   "metadata": {
    "collapsed": false
   }
  },
  {
   "cell_type": "code",
   "execution_count": 2,
   "outputs": [],
   "source": [
    "DATASET = 'data.csv'\n",
    "SAVE_MODEL = ''\n",
    "RANDOM_SEED = 42\n",
    "NUM_LETTERS = 26"
   ],
   "metadata": {
    "collapsed": false
   }
  },
  {
   "cell_type": "markdown",
   "source": [
    "Import data"
   ],
   "metadata": {
    "collapsed": false
   }
  },
  {
   "cell_type": "code",
   "execution_count": 3,
   "outputs": [
    {
     "name": "stdout",
     "output_type": "stream",
     "text": [
      "X: 1668 Rows\t176 Columns\n",
      "Y: 1668 Rows\n"
     ]
    }
   ],
   "source": [
    "X_data = np.loadtxt(DATASET, delimiter=',', usecols=range(1, 176+1))\n",
    "x_rows = X_data.shape[0]\n",
    "x_cols = X_data.shape[1]\n",
    "\n",
    "y_data = np.loadtxt(DATASET, delimiter=',', usecols=0).astype(np.int32)\n",
    "y_shape = y_data.shape\n",
    "\n",
    "print('X: {} Rows\\t{} Columns'.format(x_rows, x_cols))\n",
    "print('Y: {} Rows'.format(y_shape[0]))"
   ],
   "metadata": {
    "collapsed": false
   }
  },
  {
   "cell_type": "markdown",
   "source": [
    "Train Test Split"
   ],
   "metadata": {
    "collapsed": false
   }
  },
  {
   "cell_type": "code",
   "execution_count": 4,
   "outputs": [],
   "source": [
    "X_train, X_test, y_train, y_test = train_test_split(X_data, y_data, train_size=0.75, random_state=RANDOM_SEED)"
   ],
   "metadata": {
    "collapsed": false
   }
  },
  {
   "cell_type": "markdown",
   "source": [
    "Define model architecture"
   ],
   "metadata": {
    "collapsed": false
   }
  },
  {
   "cell_type": "code",
   "execution_count": 5,
   "outputs": [],
   "source": [
    "model = keras.Sequential([\n",
    "    layers.Dense(256, activation='relu', input_shape=[x_cols]),\n",
    "    layers.Dropout(0.2),\n",
    "    layers.Dense(256, activation='relu'),\n",
    "    layers.Dropout(0.2),\n",
    "    layers.Dense(50, activation='relu'),\n",
    "    layers.Dense(NUM_LETTERS, activation='softmax')\n",
    "])"
   ],
   "metadata": {
    "collapsed": false
   }
  },
  {
   "cell_type": "code",
   "execution_count": 6,
   "outputs": [
    {
     "name": "stdout",
     "output_type": "stream",
     "text": [
      "Model: \"sequential\"\n",
      "_________________________________________________________________\n",
      " Layer (type)                Output Shape              Param #   \n",
      "=================================================================\n",
      " dense (Dense)               (None, 256)               45312     \n",
      "                                                                 \n",
      " dropout (Dropout)           (None, 256)               0         \n",
      "                                                                 \n",
      " dense_1 (Dense)             (None, 256)               65792     \n",
      "                                                                 \n",
      " dropout_1 (Dropout)         (None, 256)               0         \n",
      "                                                                 \n",
      " dense_2 (Dense)             (None, 50)                12850     \n",
      "                                                                 \n",
      " dense_3 (Dense)             (None, 26)                1326      \n",
      "                                                                 \n",
      "=================================================================\n",
      "Total params: 125,280\n",
      "Trainable params: 125,280\n",
      "Non-trainable params: 0\n",
      "_________________________________________________________________\n"
     ]
    }
   ],
   "source": [
    "model.summary()"
   ],
   "metadata": {
    "collapsed": false
   }
  },
  {
   "cell_type": "code",
   "execution_count": 7,
   "outputs": [],
   "source": [
    "early_stopping = keras.callbacks.EarlyStopping(patience=5, min_delta=0.00001, restore_best_weights=True)"
   ],
   "metadata": {
    "collapsed": false
   }
  },
  {
   "cell_type": "code",
   "execution_count": 8,
   "outputs": [],
   "source": [
    "model.compile(optimizer='adam',\n",
    "              loss='sparse_categorical_crossentropy',\n",
    "              metrics=['accuracy'])"
   ],
   "metadata": {
    "collapsed": false
   }
  },
  {
   "cell_type": "code",
   "execution_count": 9,
   "outputs": [
    {
     "name": "stdout",
     "output_type": "stream",
     "text": [
      "Epoch 1/300\n",
      "42/42 [==============================] - 1s 9ms/step - loss: 3.0170 - accuracy: 0.1335 - val_loss: 2.5374 - val_accuracy: 0.3118\n",
      "Epoch 2/300\n",
      "42/42 [==============================] - 0s 7ms/step - loss: 1.7854 - accuracy: 0.5548 - val_loss: 0.8893 - val_accuracy: 0.9496\n",
      "Epoch 3/300\n",
      "42/42 [==============================] - 0s 8ms/step - loss: 0.6296 - accuracy: 0.8553 - val_loss: 0.2925 - val_accuracy: 0.9976\n",
      "Epoch 4/300\n",
      "42/42 [==============================] - 0s 7ms/step - loss: 0.2822 - accuracy: 0.9512 - val_loss: 0.1102 - val_accuracy: 0.9976\n",
      "Epoch 5/300\n",
      "42/42 [==============================] - 0s 6ms/step - loss: 0.1433 - accuracy: 0.9816 - val_loss: 0.0528 - val_accuracy: 0.9976\n",
      "Epoch 6/300\n",
      "42/42 [==============================] - 0s 7ms/step - loss: 0.0736 - accuracy: 0.9944 - val_loss: 0.0202 - val_accuracy: 1.0000\n",
      "Epoch 7/300\n",
      "42/42 [==============================] - 0s 8ms/step - loss: 0.0435 - accuracy: 0.9968 - val_loss: 0.0130 - val_accuracy: 1.0000\n",
      "Epoch 8/300\n",
      "42/42 [==============================] - 0s 8ms/step - loss: 0.0324 - accuracy: 0.9992 - val_loss: 0.0080 - val_accuracy: 1.0000\n",
      "Epoch 9/300\n",
      "42/42 [==============================] - 0s 7ms/step - loss: 0.0262 - accuracy: 0.9984 - val_loss: 0.0094 - val_accuracy: 1.0000\n",
      "Epoch 10/300\n",
      "42/42 [==============================] - 0s 8ms/step - loss: 0.0205 - accuracy: 0.9984 - val_loss: 0.0040 - val_accuracy: 1.0000\n",
      "Epoch 11/300\n",
      "42/42 [==============================] - 0s 7ms/step - loss: 0.0174 - accuracy: 1.0000 - val_loss: 0.0031 - val_accuracy: 1.0000\n",
      "Epoch 12/300\n",
      "42/42 [==============================] - 0s 7ms/step - loss: 0.0146 - accuracy: 0.9984 - val_loss: 0.0023 - val_accuracy: 1.0000\n",
      "Epoch 13/300\n",
      "42/42 [==============================] - 0s 7ms/step - loss: 0.0102 - accuracy: 1.0000 - val_loss: 0.0019 - val_accuracy: 1.0000\n",
      "Epoch 14/300\n",
      "42/42 [==============================] - 0s 6ms/step - loss: 0.0099 - accuracy: 1.0000 - val_loss: 0.0011 - val_accuracy: 1.0000\n",
      "Epoch 15/300\n",
      "42/42 [==============================] - 0s 6ms/step - loss: 0.0067 - accuracy: 0.9992 - val_loss: 8.8177e-04 - val_accuracy: 1.0000\n",
      "Epoch 16/300\n",
      "42/42 [==============================] - 0s 6ms/step - loss: 0.0073 - accuracy: 1.0000 - val_loss: 0.0011 - val_accuracy: 1.0000\n",
      "Epoch 17/300\n",
      "42/42 [==============================] - 0s 7ms/step - loss: 0.0105 - accuracy: 0.9992 - val_loss: 0.0024 - val_accuracy: 1.0000\n",
      "Epoch 18/300\n",
      "42/42 [==============================] - 0s 6ms/step - loss: 0.0059 - accuracy: 1.0000 - val_loss: 7.2012e-04 - val_accuracy: 1.0000\n",
      "Epoch 19/300\n",
      "42/42 [==============================] - 0s 7ms/step - loss: 0.0063 - accuracy: 1.0000 - val_loss: 5.3548e-04 - val_accuracy: 1.0000\n",
      "Epoch 20/300\n",
      "42/42 [==============================] - 0s 7ms/step - loss: 0.0036 - accuracy: 1.0000 - val_loss: 4.7098e-04 - val_accuracy: 1.0000\n",
      "Epoch 21/300\n",
      "42/42 [==============================] - 0s 6ms/step - loss: 0.0035 - accuracy: 1.0000 - val_loss: 4.3070e-04 - val_accuracy: 1.0000\n",
      "Epoch 22/300\n",
      "42/42 [==============================] - 0s 6ms/step - loss: 0.0027 - accuracy: 1.0000 - val_loss: 3.3273e-04 - val_accuracy: 1.0000\n",
      "Epoch 23/300\n",
      "42/42 [==============================] - 0s 6ms/step - loss: 0.0042 - accuracy: 1.0000 - val_loss: 3.1830e-04 - val_accuracy: 1.0000\n",
      "Epoch 24/300\n",
      "42/42 [==============================] - 0s 6ms/step - loss: 0.0017 - accuracy: 1.0000 - val_loss: 2.1244e-04 - val_accuracy: 1.0000\n",
      "Epoch 25/300\n",
      "42/42 [==============================] - 0s 6ms/step - loss: 0.0020 - accuracy: 1.0000 - val_loss: 2.1128e-04 - val_accuracy: 1.0000\n",
      "Epoch 26/300\n",
      "42/42 [==============================] - 0s 5ms/step - loss: 0.0016 - accuracy: 1.0000 - val_loss: 2.0340e-04 - val_accuracy: 1.0000\n",
      "Epoch 27/300\n",
      "42/42 [==============================] - 0s 6ms/step - loss: 0.0016 - accuracy: 1.0000 - val_loss: 1.5335e-04 - val_accuracy: 1.0000\n",
      "Epoch 28/300\n",
      "42/42 [==============================] - 0s 5ms/step - loss: 0.0028 - accuracy: 1.0000 - val_loss: 1.4782e-04 - val_accuracy: 1.0000\n",
      "Epoch 29/300\n",
      "42/42 [==============================] - 0s 4ms/step - loss: 0.0068 - accuracy: 0.9976 - val_loss: 0.0016 - val_accuracy: 1.0000\n",
      "Epoch 30/300\n",
      "42/42 [==============================] - 0s 4ms/step - loss: 0.0055 - accuracy: 0.9992 - val_loss: 4.7034e-04 - val_accuracy: 1.0000\n",
      "Epoch 31/300\n",
      "42/42 [==============================] - 0s 4ms/step - loss: 0.0022 - accuracy: 1.0000 - val_loss: 1.7987e-04 - val_accuracy: 1.0000\n",
      "Epoch 32/300\n",
      "42/42 [==============================] - 0s 5ms/step - loss: 0.0012 - accuracy: 1.0000 - val_loss: 1.0622e-04 - val_accuracy: 1.0000\n",
      "Epoch 33/300\n",
      "42/42 [==============================] - 0s 5ms/step - loss: 0.0010 - accuracy: 1.0000 - val_loss: 1.1282e-04 - val_accuracy: 1.0000\n",
      "Epoch 34/300\n",
      "42/42 [==============================] - 0s 4ms/step - loss: 0.0017 - accuracy: 1.0000 - val_loss: 0.0010 - val_accuracy: 1.0000\n",
      "Epoch 35/300\n",
      "42/42 [==============================] - 0s 4ms/step - loss: 0.0101 - accuracy: 0.9976 - val_loss: 1.8381e-04 - val_accuracy: 1.0000\n",
      "Epoch 36/300\n",
      "42/42 [==============================] - 0s 4ms/step - loss: 0.0011 - accuracy: 1.0000 - val_loss: 1.2454e-04 - val_accuracy: 1.0000\n",
      "Epoch 37/300\n",
      "42/42 [==============================] - 0s 4ms/step - loss: 0.0011 - accuracy: 1.0000 - val_loss: 9.9611e-05 - val_accuracy: 1.0000\n"
     ]
    }
   ],
   "source": [
    "history = model.fit(\n",
    "    X_train, y_train,\n",
    "    batch_size=30,\n",
    "    epochs=300,\n",
    "    validation_data=(X_test, y_test),\n",
    "    callbacks=[early_stopping]\n",
    ")"
   ],
   "metadata": {
    "collapsed": false
   }
  },
  {
   "cell_type": "code",
   "execution_count": 17,
   "outputs": [
    {
     "name": "stdout",
     "output_type": "stream",
     "text": [
      "Minimum Validation Loss: 9.961069008568302e-05\n"
     ]
    },
    {
     "data": {
      "text/plain": "<Figure size 640x480 with 1 Axes>",
      "image/png": "[encoded data removed]"
     },
     "metadata": {},
     "output_type": "display_data"
    }
   ],
   "source": [
    "history_df = pd.DataFrame(history.history)\n",
    "history_df.loc[5:, ['loss', 'val_loss']].plot();\n",
    "print('Minimum Validation Loss: {}'.format(history_df['val_loss'].min()))"
   ],
   "metadata": {
    "collapsed": false
   }
  },
  {
   "cell_type": "code",
   "execution_count": 11,
   "outputs": [],
   "source": [
    "# keras.backend.clear_session()"
   ],
   "metadata": {
    "collapsed": false
   }
  },
  {
   "cell_type": "code",
   "execution_count": 12,
   "outputs": [],
   "source": [
    "model.save('alphabet_model.h5')"
   ],
   "metadata": {
    "collapsed": false
   }
  },
  {
   "cell_type": "markdown",
   "source": [
    "For testing"
   ],
   "metadata": {
    "collapsed": false
   }
  },
  {
   "cell_type": "code",
   "execution_count": 13,
   "outputs": [],
   "source": [
    "# features = []\n",
    "#\n",
    "# features = np.array(features)   # convert the list to a numpy array\n",
    "# features = features.reshape(1, 168)  # reshape the array to (1, 168)\n",
    "#\n",
    "# prediction = model.predict(features)"
   ],
   "metadata": {
    "collapsed": false
   }
  }
 ],
 "metadata": {
  "kernelspec": {
   "display_name": "Python 3",
   "language": "python",
   "name": "python3"
  },
  "language_info": {
   "codemirror_mode": {
    "name": "ipython",
    "version": 2
   },
   "file_extension": ".py",
   "mimetype": "text/x-python",
   "name": "python",
   "nbconvert_exporter": "python",
   "pygments_lexer": "ipython2",
   "version": "2.7.6"
  }
 },
 "nbformat": 4,
 "nbformat_minor": 0
}
