{
 "cells": [
  {
   "cell_type": "markdown",
   "source": [
    "Import libraries"
   ],
   "metadata": {
    "collapsed": false
   }
  },
  {
   "cell_type": "code",
   "execution_count": 1,
   "metadata": {
    "collapsed": true
   },
   "outputs": [],
   "source": [
    "import numpy as np\n",
    "from tensorflow import keras\n",
    "from tensorflow.keras import layers\n",
    "from sklearn.model_selection import train_test_split\n",
    "import pandas as pd"
   ]
  },
  {
   "cell_type": "markdown",
   "source": [
    "Constants"
   ],
   "metadata": {
    "collapsed": false
   }
  },
  {
   "cell_type": "code",
   "execution_count": 2,
   "outputs": [],
   "source": [
    "DATASET = 'data.csv'\n",
    "SAVE_MODEL = ''\n",
    "RANDOM_SEED = 42\n",
    "NUM_LETTERS = 9"
   ],
   "metadata": {
    "collapsed": false
   }
  },
  {
   "cell_type": "markdown",
   "source": [
    "Import data"
   ],
   "metadata": {
    "collapsed": false
   }
  },
  {
   "cell_type": "code",
   "execution_count": 3,
   "outputs": [
    {
     "name": "stdout",
     "output_type": "stream",
     "text": [
      "X: 585 Rows\t168 Columns\n",
      "Y: 585 Rows\n"
     ]
    }
   ],
   "source": [
    "X_data = np.loadtxt(DATASET, delimiter=',', usecols=range(1, 168+1))\n",
    "x_rows = X_data.shape[0]\n",
    "x_cols = X_data.shape[1]\n",
    "\n",
    "y_data = np.loadtxt(DATASET, delimiter=',', usecols=0).astype(np.int32)\n",
    "y_shape = y_data.shape\n",
    "\n",
    "print('X: {} Rows\\t{} Columns'.format(x_rows, x_cols))\n",
    "print('Y: {} Rows'.format(y_shape[0]))"
   ],
   "metadata": {
    "collapsed": false
   }
  },
  {
   "cell_type": "markdown",
   "source": [
    "Train Test Split"
   ],
   "metadata": {
    "collapsed": false
   }
  },
  {
   "cell_type": "code",
   "execution_count": 4,
   "outputs": [],
   "source": [
    "X_train, X_test, y_train, y_test = train_test_split(X_data, y_data, train_size=0.75, random_state=RANDOM_SEED)"
   ],
   "metadata": {
    "collapsed": false
   }
  },
  {
   "cell_type": "markdown",
   "source": [
    "Define model architecture"
   ],
   "metadata": {
    "collapsed": false
   }
  },
  {
   "cell_type": "code",
   "execution_count": 5,
   "outputs": [],
   "source": [
    "model = keras.Sequential([\n",
    "    layers.Dense(256, activation='relu', input_shape=[x_cols]),\n",
    "    layers.Dropout(0.2),\n",
    "    layers.Dense(256, activation='relu'),\n",
    "    layers.Dropout(0.2),\n",
    "    layers.Dense(50, activation='relu'),\n",
    "    layers.Dense(NUM_LETTERS, activation='softmax')\n",
    "])"
   ],
   "metadata": {
    "collapsed": false
   }
  },
  {
   "cell_type": "code",
   "execution_count": 6,
   "outputs": [
    {
     "name": "stdout",
     "output_type": "stream",
     "text": [
      "Model: \"sequential\"\n",
      "_________________________________________________________________\n",
      " Layer (type)                Output Shape              Param #   \n",
      "=================================================================\n",
      " dense (Dense)               (None, 256)               43264     \n",
      "                                                                 \n",
      " dropout (Dropout)           (None, 256)               0         \n",
      "                                                                 \n",
      " dense_1 (Dense)             (None, 256)               65792     \n",
      "                                                                 \n",
      " dropout_1 (Dropout)         (None, 256)               0         \n",
      "                                                                 \n",
      " dense_2 (Dense)             (None, 50)                12850     \n",
      "                                                                 \n",
      " dense_3 (Dense)             (None, 9)                 459       \n",
      "                                                                 \n",
      "=================================================================\n",
      "Total params: 122,365\n",
      "Trainable params: 122,365\n",
      "Non-trainable params: 0\n",
      "_________________________________________________________________\n"
     ]
    }
   ],
   "source": [
    "model.summary()"
   ],
   "metadata": {
    "collapsed": false
   }
  },
  {
   "cell_type": "code",
   "execution_count": 7,
   "outputs": [],
   "source": [
    "early_stopping = keras.callbacks.EarlyStopping(patience=5, min_delta=0.00001, restore_best_weights=True)"
   ],
   "metadata": {
    "collapsed": false
   }
  },
  {
   "cell_type": "code",
   "execution_count": 8,
   "outputs": [],
   "source": [
    "model.compile(optimizer='adam',\n",
    "              loss='sparse_categorical_crossentropy',\n",
    "              metrics=['accuracy'])"
   ],
   "metadata": {
    "collapsed": false
   }
  },
  {
   "cell_type": "code",
   "execution_count": 9,
   "outputs": [
    {
     "name": "stdout",
     "output_type": "stream",
     "text": [
      "Epoch 1/300\n",
      "15/15 [==============================] - 1s 19ms/step - loss: 2.0880 - accuracy: 0.3562 - val_loss: 1.8925 - val_accuracy: 0.5714\n",
      "Epoch 2/300\n",
      "15/15 [==============================] - 0s 6ms/step - loss: 1.6043 - accuracy: 0.6553 - val_loss: 1.2278 - val_accuracy: 0.6803\n",
      "Epoch 3/300\n",
      "15/15 [==============================] - 0s 6ms/step - loss: 0.9037 - accuracy: 0.8219 - val_loss: 0.5355 - val_accuracy: 0.8639\n",
      "Epoch 4/300\n",
      "15/15 [==============================] - 0s 7ms/step - loss: 0.4219 - accuracy: 0.9018 - val_loss: 0.2593 - val_accuracy: 0.9048\n",
      "Epoch 5/300\n",
      "15/15 [==============================] - 0s 5ms/step - loss: 0.2668 - accuracy: 0.8904 - val_loss: 0.1652 - val_accuracy: 0.9116\n",
      "Epoch 6/300\n",
      "15/15 [==============================] - 0s 6ms/step - loss: 0.1656 - accuracy: 0.9361 - val_loss: 0.1549 - val_accuracy: 0.8639\n",
      "Epoch 7/300\n",
      "15/15 [==============================] - 0s 6ms/step - loss: 0.1426 - accuracy: 0.9269 - val_loss: 0.1210 - val_accuracy: 0.9660\n",
      "Epoch 8/300\n",
      "15/15 [==============================] - 0s 5ms/step - loss: 0.1058 - accuracy: 0.9703 - val_loss: 0.0840 - val_accuracy: 1.0000\n",
      "Epoch 9/300\n",
      "15/15 [==============================] - 0s 5ms/step - loss: 0.0885 - accuracy: 0.9703 - val_loss: 0.0623 - val_accuracy: 1.0000\n",
      "Epoch 10/300\n",
      "15/15 [==============================] - 0s 5ms/step - loss: 0.0812 - accuracy: 0.9726 - val_loss: 0.0400 - val_accuracy: 1.0000\n",
      "Epoch 11/300\n",
      "15/15 [==============================] - 0s 5ms/step - loss: 0.0465 - accuracy: 0.9954 - val_loss: 0.0244 - val_accuracy: 1.0000\n",
      "Epoch 12/300\n",
      "15/15 [==============================] - 0s 5ms/step - loss: 0.0351 - accuracy: 0.9977 - val_loss: 0.0154 - val_accuracy: 1.0000\n",
      "Epoch 13/300\n",
      "15/15 [==============================] - 0s 5ms/step - loss: 0.0260 - accuracy: 0.9977 - val_loss: 0.0123 - val_accuracy: 1.0000\n",
      "Epoch 14/300\n",
      "15/15 [==============================] - 0s 5ms/step - loss: 0.0156 - accuracy: 1.0000 - val_loss: 0.0069 - val_accuracy: 1.0000\n",
      "Epoch 15/300\n",
      "15/15 [==============================] - 0s 6ms/step - loss: 0.0143 - accuracy: 1.0000 - val_loss: 0.0051 - val_accuracy: 1.0000\n",
      "Epoch 16/300\n",
      "15/15 [==============================] - 0s 5ms/step - loss: 0.0087 - accuracy: 1.0000 - val_loss: 0.0040 - val_accuracy: 1.0000\n",
      "Epoch 17/300\n",
      "15/15 [==============================] - 0s 5ms/step - loss: 0.0086 - accuracy: 1.0000 - val_loss: 0.0033 - val_accuracy: 1.0000\n",
      "Epoch 18/300\n",
      "15/15 [==============================] - 0s 5ms/step - loss: 0.0070 - accuracy: 1.0000 - val_loss: 0.0034 - val_accuracy: 1.0000\n",
      "Epoch 19/300\n",
      "15/15 [==============================] - 0s 5ms/step - loss: 0.0085 - accuracy: 1.0000 - val_loss: 0.0019 - val_accuracy: 1.0000\n",
      "Epoch 20/300\n",
      "15/15 [==============================] - 0s 5ms/step - loss: 0.0079 - accuracy: 1.0000 - val_loss: 0.0020 - val_accuracy: 1.0000\n",
      "Epoch 21/300\n",
      "15/15 [==============================] - 0s 7ms/step - loss: 0.0040 - accuracy: 1.0000 - val_loss: 0.0015 - val_accuracy: 1.0000\n",
      "Epoch 22/300\n",
      "15/15 [==============================] - 0s 7ms/step - loss: 0.0036 - accuracy: 1.0000 - val_loss: 0.0014 - val_accuracy: 1.0000\n",
      "Epoch 23/300\n",
      "15/15 [==============================] - 0s 6ms/step - loss: 0.0024 - accuracy: 1.0000 - val_loss: 0.0010 - val_accuracy: 1.0000\n",
      "Epoch 24/300\n",
      "15/15 [==============================] - 0s 6ms/step - loss: 0.0025 - accuracy: 1.0000 - val_loss: 8.6180e-04 - val_accuracy: 1.0000\n",
      "Epoch 25/300\n",
      "15/15 [==============================] - 0s 6ms/step - loss: 0.0022 - accuracy: 1.0000 - val_loss: 7.9442e-04 - val_accuracy: 1.0000\n",
      "Epoch 26/300\n",
      "15/15 [==============================] - 0s 5ms/step - loss: 0.0028 - accuracy: 1.0000 - val_loss: 6.6585e-04 - val_accuracy: 1.0000\n",
      "Epoch 27/300\n",
      "15/15 [==============================] - 0s 5ms/step - loss: 0.0023 - accuracy: 1.0000 - val_loss: 5.9199e-04 - val_accuracy: 1.0000\n",
      "Epoch 28/300\n",
      "15/15 [==============================] - 0s 5ms/step - loss: 0.0021 - accuracy: 1.0000 - val_loss: 5.1264e-04 - val_accuracy: 1.0000\n",
      "Epoch 29/300\n",
      "15/15 [==============================] - 0s 5ms/step - loss: 0.0015 - accuracy: 1.0000 - val_loss: 4.6025e-04 - val_accuracy: 1.0000\n",
      "Epoch 30/300\n",
      "15/15 [==============================] - 0s 5ms/step - loss: 0.0012 - accuracy: 1.0000 - val_loss: 4.2589e-04 - val_accuracy: 1.0000\n",
      "Epoch 31/300\n",
      "15/15 [==============================] - 0s 5ms/step - loss: 0.0015 - accuracy: 1.0000 - val_loss: 3.9615e-04 - val_accuracy: 1.0000\n",
      "Epoch 32/300\n",
      "15/15 [==============================] - 0s 5ms/step - loss: 0.0013 - accuracy: 1.0000 - val_loss: 3.5925e-04 - val_accuracy: 1.0000\n",
      "Epoch 33/300\n",
      "15/15 [==============================] - 0s 5ms/step - loss: 0.0017 - accuracy: 1.0000 - val_loss: 4.6034e-04 - val_accuracy: 1.0000\n",
      "Epoch 34/300\n",
      "15/15 [==============================] - 0s 5ms/step - loss: 0.0021 - accuracy: 1.0000 - val_loss: 3.6820e-04 - val_accuracy: 1.0000\n",
      "Epoch 35/300\n",
      "15/15 [==============================] - 0s 5ms/step - loss: 0.0017 - accuracy: 1.0000 - val_loss: 2.9491e-04 - val_accuracy: 1.0000\n",
      "Epoch 36/300\n",
      "15/15 [==============================] - 0s 5ms/step - loss: 0.0013 - accuracy: 1.0000 - val_loss: 2.6828e-04 - val_accuracy: 1.0000\n",
      "Epoch 37/300\n",
      "15/15 [==============================] - 0s 5ms/step - loss: 0.0011 - accuracy: 1.0000 - val_loss: 2.7512e-04 - val_accuracy: 1.0000\n",
      "Epoch 38/300\n",
      "15/15 [==============================] - 0s 5ms/step - loss: 7.3618e-04 - accuracy: 1.0000 - val_loss: 2.1964e-04 - val_accuracy: 1.0000\n",
      "Epoch 39/300\n",
      "15/15 [==============================] - 0s 6ms/step - loss: 6.5036e-04 - accuracy: 1.0000 - val_loss: 2.5304e-04 - val_accuracy: 1.0000\n",
      "Epoch 40/300\n",
      "15/15 [==============================] - 0s 5ms/step - loss: 8.4155e-04 - accuracy: 1.0000 - val_loss: 2.1846e-04 - val_accuracy: 1.0000\n",
      "Epoch 41/300\n",
      "15/15 [==============================] - 0s 6ms/step - loss: 9.0875e-04 - accuracy: 1.0000 - val_loss: 1.7706e-04 - val_accuracy: 1.0000\n",
      "Epoch 42/300\n",
      "15/15 [==============================] - 0s 5ms/step - loss: 7.0664e-04 - accuracy: 1.0000 - val_loss: 1.7904e-04 - val_accuracy: 1.0000\n",
      "Epoch 43/300\n",
      "15/15 [==============================] - 0s 5ms/step - loss: 6.1168e-04 - accuracy: 1.0000 - val_loss: 2.1175e-04 - val_accuracy: 1.0000\n",
      "Epoch 44/300\n",
      "15/15 [==============================] - 0s 5ms/step - loss: 9.6636e-04 - accuracy: 1.0000 - val_loss: 1.7642e-04 - val_accuracy: 1.0000\n",
      "Epoch 45/300\n",
      "15/15 [==============================] - 0s 5ms/step - loss: 5.7034e-04 - accuracy: 1.0000 - val_loss: 1.3321e-04 - val_accuracy: 1.0000\n",
      "Epoch 46/300\n",
      "15/15 [==============================] - 0s 5ms/step - loss: 4.9330e-04 - accuracy: 1.0000 - val_loss: 1.9164e-04 - val_accuracy: 1.0000\n",
      "Epoch 47/300\n",
      "15/15 [==============================] - 0s 5ms/step - loss: 5.6322e-04 - accuracy: 1.0000 - val_loss: 1.2051e-04 - val_accuracy: 1.0000\n",
      "Epoch 48/300\n",
      "15/15 [==============================] - 0s 5ms/step - loss: 6.3018e-04 - accuracy: 1.0000 - val_loss: 1.1236e-04 - val_accuracy: 1.0000\n",
      "Epoch 49/300\n",
      "15/15 [==============================] - 0s 5ms/step - loss: 3.6600e-04 - accuracy: 1.0000 - val_loss: 1.0206e-04 - val_accuracy: 1.0000\n",
      "Epoch 50/300\n",
      "15/15 [==============================] - 0s 5ms/step - loss: 3.3233e-04 - accuracy: 1.0000 - val_loss: 1.0316e-04 - val_accuracy: 1.0000\n",
      "Epoch 51/300\n",
      "15/15 [==============================] - 0s 5ms/step - loss: 3.7939e-04 - accuracy: 1.0000 - val_loss: 9.9786e-05 - val_accuracy: 1.0000\n",
      "Epoch 52/300\n",
      "15/15 [==============================] - 0s 5ms/step - loss: 6.0128e-04 - accuracy: 1.0000 - val_loss: 8.6386e-05 - val_accuracy: 1.0000\n",
      "Epoch 53/300\n",
      "15/15 [==============================] - 0s 5ms/step - loss: 5.1686e-04 - accuracy: 1.0000 - val_loss: 8.1753e-05 - val_accuracy: 1.0000\n",
      "Epoch 54/300\n",
      "15/15 [==============================] - 0s 5ms/step - loss: 3.6862e-04 - accuracy: 1.0000 - val_loss: 8.8571e-05 - val_accuracy: 1.0000\n",
      "Epoch 55/300\n",
      "15/15 [==============================] - 0s 5ms/step - loss: 3.7789e-04 - accuracy: 1.0000 - val_loss: 8.2899e-05 - val_accuracy: 1.0000\n",
      "Epoch 56/300\n",
      "15/15 [==============================] - 0s 5ms/step - loss: 3.6905e-04 - accuracy: 1.0000 - val_loss: 7.3485e-05 - val_accuracy: 1.0000\n",
      "Epoch 57/300\n",
      "15/15 [==============================] - 0s 5ms/step - loss: 4.8078e-04 - accuracy: 1.0000 - val_loss: 8.0389e-05 - val_accuracy: 1.0000\n",
      "Epoch 58/300\n",
      "15/15 [==============================] - 0s 5ms/step - loss: 3.3354e-04 - accuracy: 1.0000 - val_loss: 9.8256e-05 - val_accuracy: 1.0000\n",
      "Epoch 59/300\n",
      "15/15 [==============================] - 0s 5ms/step - loss: 2.9451e-04 - accuracy: 1.0000 - val_loss: 6.6098e-05 - val_accuracy: 1.0000\n",
      "Epoch 60/300\n",
      "15/15 [==============================] - 0s 5ms/step - loss: 2.4822e-04 - accuracy: 1.0000 - val_loss: 5.7495e-05 - val_accuracy: 1.0000\n",
      "Epoch 61/300\n",
      "15/15 [==============================] - 0s 5ms/step - loss: 3.1763e-04 - accuracy: 1.0000 - val_loss: 6.2662e-05 - val_accuracy: 1.0000\n",
      "Epoch 62/300\n",
      "15/15 [==============================] - 0s 5ms/step - loss: 2.4062e-04 - accuracy: 1.0000 - val_loss: 7.4183e-05 - val_accuracy: 1.0000\n",
      "Epoch 63/300\n",
      "15/15 [==============================] - 0s 5ms/step - loss: 2.7951e-04 - accuracy: 1.0000 - val_loss: 6.4708e-05 - val_accuracy: 1.0000\n",
      "Epoch 64/300\n",
      "15/15 [==============================] - 0s 5ms/step - loss: 2.5018e-04 - accuracy: 1.0000 - val_loss: 5.8369e-05 - val_accuracy: 1.0000\n",
      "Epoch 65/300\n",
      "15/15 [==============================] - 0s 5ms/step - loss: 1.5278e-04 - accuracy: 1.0000 - val_loss: 5.3792e-05 - val_accuracy: 1.0000\n"
     ]
    }
   ],
   "source": [
    "history = model.fit(\n",
    "    X_train, y_train,\n",
    "    batch_size=30,\n",
    "    epochs=300,\n",
    "    validation_data=(X_test, y_test),\n",
    "    callbacks=[early_stopping]\n",
    ")"
   ],
   "metadata": {
    "collapsed": false
   }
  },
  {
   "cell_type": "code",
   "execution_count": 10,
   "outputs": [
    {
     "name": "stdout",
     "output_type": "stream",
     "text": [
      "Minimum Validation Loss: 5.3792373364558443e-05\n"
     ]
    },
    {
     "data": {
      "text/plain": "<Figure size 640x480 with 1 Axes>",
      "image/png": "[encoded data removed]"
     },
     "metadata": {},
     "output_type": "display_data"
    }
   ],
   "source": [
    "history_df = pd.DataFrame(history.history)\n",
    "history_df.loc[20:, ['loss', 'val_loss']].plot();\n",
    "print('Minimum Validation Loss: {}'.format(history_df['val_loss'].min()))"
   ],
   "metadata": {
    "collapsed": false
   }
  },
  {
   "cell_type": "code",
   "execution_count": 11,
   "outputs": [],
   "source": [
    "# keras.backend.clear_session()"
   ],
   "metadata": {
    "collapsed": false
   }
  },
  {
   "cell_type": "code",
   "execution_count": 12,
   "outputs": [],
   "source": [
    "model.save('alphabet_model.h5')"
   ],
   "metadata": {
    "collapsed": false
   }
  },
  {
   "cell_type": "markdown",
   "source": [
    "For testing"
   ],
   "metadata": {
    "collapsed": false
   }
  },
  {
   "cell_type": "code",
   "execution_count": 13,
   "outputs": [],
   "source": [
    "# features = []\n",
    "#\n",
    "# features = np.array(features)   # convert the list to a numpy array\n",
    "# features = features.reshape(1, 168)  # reshape the array to (1, 168)\n",
    "#\n",
    "# prediction = model.predict(features)"
   ],
   "metadata": {
    "collapsed": false
   }
  }
 ],
 "metadata": {
  "kernelspec": {
   "display_name": "Python 3",
   "language": "python",
   "name": "python3"
  },
  "language_info": {
   "codemirror_mode": {
    "name": "ipython",
    "version": 2
   },
   "file_extension": ".py",
   "mimetype": "text/x-python",
   "name": "python",
   "nbconvert_exporter": "python",
   "pygments_lexer": "ipython2",
   "version": "2.7.6"
  }
 },
 "nbformat": 4,
 "nbformat_minor": 0
}
